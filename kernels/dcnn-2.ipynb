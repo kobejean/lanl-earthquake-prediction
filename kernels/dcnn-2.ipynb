{
 "cells": [
  {
   "cell_type": "markdown",
   "metadata": {
    "_uuid": "7aaf8f776224015089cf92a51d99216d2aef63c5"
   },
   "source": [
    "## Import python modules"
   ]
  },
  {
   "cell_type": "code",
   "execution_count": 1,
   "metadata": {
    "_cell_guid": "b1076dfc-b9ad-4769-8c92-a6c4dae69d19",
    "_kg_hide-input": true,
    "_kg_hide-output": false,
    "_uuid": "8f2839f25d086af736a60e9eeb907d3b93b6e0e5"
   },
   "outputs": [
    {
     "name": "stdout",
     "output_type": "stream",
     "text": [
      "Imported!\n"
     ]
    }
   ],
   "source": [
    "# This Python 3 environment comes with many helpful analytics libraries installed\n",
    "# It is defined by the kaggle/python docker image: https://github.com/kaggle/docker-python\n",
    "# For example, here's several helpful packages to load in\n",
    "\n",
    "import numpy as np # linear algebra\n",
    "import pandas as pd # data processing, CSV file I/O (e.g. pd.read_csv)\n",
    "from tqdm import tqdm\n",
    "from threading import Thread\n",
    "\n",
    "import os\n",
    "import sys\n",
    "import glob\n",
    "import random\n",
    "print(\"Imported!\")"
   ]
  },
  {
   "cell_type": "markdown",
   "metadata": {
    "_uuid": "668f1f7eb0bf9f6beb3a9f2849a0d90d3ef448da"
   },
   "source": [
    "## Set Hyperparameters"
   ]
  },
  {
   "cell_type": "code",
   "execution_count": 2,
   "metadata": {
    "_kg_hide-input": true,
    "_uuid": "f9cf5fa9ed66cddc694419d1b572da63507abe0b"
   },
   "outputs": [
    {
     "name": "stdout",
     "output_type": "stream",
     "text": [
      "----- Hyperparameters -----\n",
      "epochs: 37\n",
      "batch_size: 32\n",
      "feature_size: 5\n",
      "valid_steps: 4\n",
      "learning_rate: 0.0005\n",
      "---------------------------\n",
      "seg_size: 1172\n",
      "bin_size: 32\n",
      "bins_per_seg: 37\n",
      "case_size: 1184\n",
      "target_size: 10\n",
      "granularity: 128\n",
      "total_cases: 4151\n",
      "total_batches: 130\n",
      "withheld_cases: 256\n",
      "withheld_batches: 8\n",
      "valid_cases: 128\n",
      "valid_batches: 4\n",
      "train_cases: 3767\n",
      "train_batches: 118\n",
      "---------------------------\n",
      "total_size:         4915200\n",
      "withheld_size:       303104\n",
      "train_size:         4460544\n",
      "valid_size:          151552\n",
      "---------------------------\n",
      "withheld_percent:     6.17%\n",
      "valid_percent:        3.08%\n",
      "train_percent:       90.75%\n",
      "---------------------------\n"
     ]
    }
   ],
   "source": [
    "granularity = 128\n",
    "total_size = (629_145_480 + granularity - 1) // granularity\n",
    "seg_size = (150_000 + granularity - 1) // granularity\n",
    "bin_size = (2**12 + granularity - 1) // granularity # data comes in bins of 2^12 contiguous rows (ADC with 12-bit resolution)\n",
    "bins_per_seg = (seg_size + bin_size - 1) // bin_size # ceil(seg_size / bin_size)\n",
    "case_size = bins_per_seg * bin_size\n",
    "target_size = 10\n",
    "\n",
    "epochs = 1 * bins_per_seg # there are bins_per_seg number of shifts\n",
    "batch_size = 2**5\n",
    "feature_size = 5\n",
    "valid_steps = 4\n",
    "learning_rate = 0.0005\n",
    "\n",
    "total_cases = total_size // case_size\n",
    "total_batches = (total_cases + batch_size - 1) // batch_size\n",
    "\n",
    "withheld_cases = 2**8\n",
    "withheld_batches = (withheld_cases + batch_size - 1) // batch_size\n",
    "withheld_size = withheld_cases * case_size\n",
    "withheld_percent = 100 * withheld_size / total_size\n",
    "\n",
    "valid_cases = valid_steps * batch_size\n",
    "valid_batches = (valid_cases + batch_size - 1) // batch_size\n",
    "valid_size = valid_cases * case_size\n",
    "valid_percent = 100 * valid_size / total_size\n",
    "\n",
    "train_size = total_size - valid_size - withheld_size\n",
    "train_cases = total_cases - valid_cases - withheld_cases\n",
    "train_batches = (train_cases + batch_size - 1) // batch_size\n",
    "train_percent = 100 * train_size / total_size\n",
    "\n",
    "\n",
    "print(\"----- Hyperparameters -----\")\n",
    "print(\"epochs:\", epochs)\n",
    "print(\"batch_size:\", batch_size)\n",
    "print(\"feature_size:\", feature_size)\n",
    "print(\"valid_steps:\", valid_steps)\n",
    "print(\"learning_rate:\", learning_rate)\n",
    "print(\"---------------------------\")\n",
    "print(\"seg_size:\", seg_size)\n",
    "print(\"bin_size:\", bin_size)\n",
    "print(\"bins_per_seg:\", bins_per_seg)\n",
    "print(\"case_size:\", case_size)\n",
    "print(\"target_size:\", target_size)\n",
    "print(\"granularity:\", granularity)\n",
    "print(\"total_cases:\", total_cases)\n",
    "print(\"total_batches:\", total_batches)\n",
    "print(\"withheld_cases:\", withheld_cases)\n",
    "print(\"withheld_batches:\", withheld_batches)\n",
    "print(\"valid_cases:\", valid_cases)\n",
    "print(\"valid_batches:\", valid_batches)\n",
    "print(\"train_cases:\", train_cases)\n",
    "print(\"train_batches:\", train_batches)\n",
    "print(\"---------------------------\")\n",
    "print(\"total_size:       {0:9d}\".format(total_size))\n",
    "print(\"withheld_size:    {0:9d}\".format(withheld_size))\n",
    "print(\"train_size:       {0:9d}\".format(train_size))\n",
    "print(\"valid_size:       {0:9d}\".format(valid_size))\n",
    "print(\"---------------------------\")\n",
    "print(\"withheld_percent: {0:8.2f}%\".format(withheld_percent))\n",
    "print(\"valid_percent:    {0:8.2f}%\".format(valid_percent))\n",
    "print(\"train_percent:    {0:8.2f}%\".format(train_percent))\n",
    "print(\"---------------------------\")"
   ]
  },
  {
   "cell_type": "markdown",
   "metadata": {
    "_uuid": "6621873b6dc141e501087edc1d013a5a28ed6139"
   },
   "source": [
    "## Preprocessing"
   ]
  },
  {
   "cell_type": "code",
   "execution_count": 3,
   "metadata": {
    "_kg_hide-input": true,
    "_uuid": "bfa2da16e1ac711eef7274cdaeed68d01a2d9028"
   },
   "outputs": [
    {
     "name": "stderr",
     "output_type": "stream",
     "text": [
      " 22%|██▏       | 1078459/4915200 [1:16:47<11:03:57, 96.31it/s] "
     ]
    },
    {
     "ename": "KeyboardInterrupt",
     "evalue": "",
     "output_type": "error",
     "traceback": [
      "\u001b[0;31m---------------------------------------------------------------------------\u001b[0m",
      "\u001b[0;31mKeyboardInterrupt\u001b[0m                         Traceback (most recent call last)",
      "\u001b[0;32m<ipython-input-3-2f1610c7ea6c>\u001b[0m in \u001b[0;36m<module>\u001b[0;34m\u001b[0m\n\u001b[1;32m     19\u001b[0m \u001b[0mtargets\u001b[0m \u001b[0;34m=\u001b[0m \u001b[0;34m[\u001b[0m\u001b[0;34m]\u001b[0m\u001b[0;34m\u001b[0m\u001b[0m\n\u001b[1;32m     20\u001b[0m \u001b[0;34m\u001b[0m\u001b[0m\n\u001b[0;32m---> 21\u001b[0;31m \u001b[0;32mfor\u001b[0m \u001b[0mdf\u001b[0m \u001b[0;32min\u001b[0m \u001b[0mtqdm\u001b[0m\u001b[0;34m(\u001b[0m\u001b[0mdata\u001b[0m\u001b[0;34m,\u001b[0m \u001b[0mtotal\u001b[0m\u001b[0;34m=\u001b[0m\u001b[0mtotal_size\u001b[0m\u001b[0;34m)\u001b[0m\u001b[0;34m:\u001b[0m\u001b[0;34m\u001b[0m\u001b[0m\n\u001b[0m\u001b[1;32m     22\u001b[0m     \u001b[0mfeatures\u001b[0m\u001b[0;34m.\u001b[0m\u001b[0mappend\u001b[0m\u001b[0;34m(\u001b[0m\u001b[0mcreate_features\u001b[0m\u001b[0;34m(\u001b[0m\u001b[0mdf\u001b[0m\u001b[0;34m)\u001b[0m\u001b[0;34m)\u001b[0m\u001b[0;34m\u001b[0m\u001b[0m\n\u001b[1;32m     23\u001b[0m     \u001b[0mtargets\u001b[0m\u001b[0;34m.\u001b[0m\u001b[0mappend\u001b[0m\u001b[0;34m(\u001b[0m\u001b[0mcreate_targets\u001b[0m\u001b[0;34m(\u001b[0m\u001b[0mdf\u001b[0m\u001b[0;34m)\u001b[0m\u001b[0;34m)\u001b[0m\u001b[0;34m\u001b[0m\u001b[0m\n",
      "\u001b[0;32m/usr/local/lib/python3.6/site-packages/tqdm/_tqdm.py\u001b[0m in \u001b[0;36m__iter__\u001b[0;34m(self)\u001b[0m\n\u001b[1;32m   1000\u001b[0m \"\"\", fp_write=getattr(self.fp, 'write', sys.stderr.write))\n\u001b[1;32m   1001\u001b[0m \u001b[0;34m\u001b[0m\u001b[0m\n\u001b[0;32m-> 1002\u001b[0;31m             \u001b[0;32mfor\u001b[0m \u001b[0mobj\u001b[0m \u001b[0;32min\u001b[0m \u001b[0miterable\u001b[0m\u001b[0;34m:\u001b[0m\u001b[0;34m\u001b[0m\u001b[0m\n\u001b[0m\u001b[1;32m   1003\u001b[0m                 \u001b[0;32myield\u001b[0m \u001b[0mobj\u001b[0m\u001b[0;34m\u001b[0m\u001b[0m\n\u001b[1;32m   1004\u001b[0m                 \u001b[0;31m# Update and possibly print the progressbar.\u001b[0m\u001b[0;34m\u001b[0m\u001b[0;34m\u001b[0m\u001b[0m\n",
      "\u001b[0;32m/usr/local/lib/python3.6/site-packages/pandas/io/parsers.py\u001b[0m in \u001b[0;36m__next__\u001b[0;34m(self)\u001b[0m\n\u001b[1;32m   1005\u001b[0m     \u001b[0;32mdef\u001b[0m \u001b[0m__next__\u001b[0m\u001b[0;34m(\u001b[0m\u001b[0mself\u001b[0m\u001b[0;34m)\u001b[0m\u001b[0;34m:\u001b[0m\u001b[0;34m\u001b[0m\u001b[0m\n\u001b[1;32m   1006\u001b[0m         \u001b[0;32mtry\u001b[0m\u001b[0;34m:\u001b[0m\u001b[0;34m\u001b[0m\u001b[0m\n\u001b[0;32m-> 1007\u001b[0;31m             \u001b[0;32mreturn\u001b[0m \u001b[0mself\u001b[0m\u001b[0;34m.\u001b[0m\u001b[0mget_chunk\u001b[0m\u001b[0;34m(\u001b[0m\u001b[0;34m)\u001b[0m\u001b[0;34m\u001b[0m\u001b[0m\n\u001b[0m\u001b[1;32m   1008\u001b[0m         \u001b[0;32mexcept\u001b[0m \u001b[0mStopIteration\u001b[0m\u001b[0;34m:\u001b[0m\u001b[0;34m\u001b[0m\u001b[0m\n\u001b[1;32m   1009\u001b[0m             \u001b[0mself\u001b[0m\u001b[0;34m.\u001b[0m\u001b[0mclose\u001b[0m\u001b[0;34m(\u001b[0m\u001b[0;34m)\u001b[0m\u001b[0;34m\u001b[0m\u001b[0m\n",
      "\u001b[0;32m/usr/local/lib/python3.6/site-packages/pandas/io/parsers.py\u001b[0m in \u001b[0;36mget_chunk\u001b[0;34m(self, size)\u001b[0m\n\u001b[1;32m   1068\u001b[0m                 \u001b[0;32mraise\u001b[0m \u001b[0mStopIteration\u001b[0m\u001b[0;34m\u001b[0m\u001b[0m\n\u001b[1;32m   1069\u001b[0m             \u001b[0msize\u001b[0m \u001b[0;34m=\u001b[0m \u001b[0mmin\u001b[0m\u001b[0;34m(\u001b[0m\u001b[0msize\u001b[0m\u001b[0;34m,\u001b[0m \u001b[0mself\u001b[0m\u001b[0;34m.\u001b[0m\u001b[0mnrows\u001b[0m \u001b[0;34m-\u001b[0m \u001b[0mself\u001b[0m\u001b[0;34m.\u001b[0m\u001b[0m_currow\u001b[0m\u001b[0;34m)\u001b[0m\u001b[0;34m\u001b[0m\u001b[0m\n\u001b[0;32m-> 1070\u001b[0;31m         \u001b[0;32mreturn\u001b[0m \u001b[0mself\u001b[0m\u001b[0;34m.\u001b[0m\u001b[0mread\u001b[0m\u001b[0;34m(\u001b[0m\u001b[0mnrows\u001b[0m\u001b[0;34m=\u001b[0m\u001b[0msize\u001b[0m\u001b[0;34m)\u001b[0m\u001b[0;34m\u001b[0m\u001b[0m\n\u001b[0m\u001b[1;32m   1071\u001b[0m \u001b[0;34m\u001b[0m\u001b[0m\n\u001b[1;32m   1072\u001b[0m \u001b[0;34m\u001b[0m\u001b[0m\n",
      "\u001b[0;32m/usr/local/lib/python3.6/site-packages/pandas/io/parsers.py\u001b[0m in \u001b[0;36mread\u001b[0;34m(self, nrows)\u001b[0m\n\u001b[1;32m   1049\u001b[0m             \u001b[0mnew_rows\u001b[0m \u001b[0;34m=\u001b[0m \u001b[0mlen\u001b[0m\u001b[0;34m(\u001b[0m\u001b[0mindex\u001b[0m\u001b[0;34m)\u001b[0m\u001b[0;34m\u001b[0m\u001b[0m\n\u001b[1;32m   1050\u001b[0m \u001b[0;34m\u001b[0m\u001b[0m\n\u001b[0;32m-> 1051\u001b[0;31m         \u001b[0mdf\u001b[0m \u001b[0;34m=\u001b[0m \u001b[0mDataFrame\u001b[0m\u001b[0;34m(\u001b[0m\u001b[0mcol_dict\u001b[0m\u001b[0;34m,\u001b[0m \u001b[0mcolumns\u001b[0m\u001b[0;34m=\u001b[0m\u001b[0mcolumns\u001b[0m\u001b[0;34m,\u001b[0m \u001b[0mindex\u001b[0m\u001b[0;34m=\u001b[0m\u001b[0mindex\u001b[0m\u001b[0;34m)\u001b[0m\u001b[0;34m\u001b[0m\u001b[0m\n\u001b[0m\u001b[1;32m   1052\u001b[0m \u001b[0;34m\u001b[0m\u001b[0m\n\u001b[1;32m   1053\u001b[0m         \u001b[0mself\u001b[0m\u001b[0;34m.\u001b[0m\u001b[0m_currow\u001b[0m \u001b[0;34m+=\u001b[0m \u001b[0mnew_rows\u001b[0m\u001b[0;34m\u001b[0m\u001b[0m\n",
      "\u001b[0;32m/usr/local/lib/python3.6/site-packages/pandas/core/frame.py\u001b[0m in \u001b[0;36m__init__\u001b[0;34m(self, data, index, columns, dtype, copy)\u001b[0m\n\u001b[1;32m    346\u001b[0m                                  dtype=dtype, copy=copy)\n\u001b[1;32m    347\u001b[0m         \u001b[0;32melif\u001b[0m \u001b[0misinstance\u001b[0m\u001b[0;34m(\u001b[0m\u001b[0mdata\u001b[0m\u001b[0;34m,\u001b[0m \u001b[0mdict\u001b[0m\u001b[0;34m)\u001b[0m\u001b[0;34m:\u001b[0m\u001b[0;34m\u001b[0m\u001b[0m\n\u001b[0;32m--> 348\u001b[0;31m             \u001b[0mmgr\u001b[0m \u001b[0;34m=\u001b[0m \u001b[0mself\u001b[0m\u001b[0;34m.\u001b[0m\u001b[0m_init_dict\u001b[0m\u001b[0;34m(\u001b[0m\u001b[0mdata\u001b[0m\u001b[0;34m,\u001b[0m \u001b[0mindex\u001b[0m\u001b[0;34m,\u001b[0m \u001b[0mcolumns\u001b[0m\u001b[0;34m,\u001b[0m \u001b[0mdtype\u001b[0m\u001b[0;34m=\u001b[0m\u001b[0mdtype\u001b[0m\u001b[0;34m)\u001b[0m\u001b[0;34m\u001b[0m\u001b[0m\n\u001b[0m\u001b[1;32m    349\u001b[0m         \u001b[0;32melif\u001b[0m \u001b[0misinstance\u001b[0m\u001b[0;34m(\u001b[0m\u001b[0mdata\u001b[0m\u001b[0;34m,\u001b[0m \u001b[0mma\u001b[0m\u001b[0;34m.\u001b[0m\u001b[0mMaskedArray\u001b[0m\u001b[0;34m)\u001b[0m\u001b[0;34m:\u001b[0m\u001b[0;34m\u001b[0m\u001b[0m\n\u001b[1;32m    350\u001b[0m             \u001b[0;32mimport\u001b[0m \u001b[0mnumpy\u001b[0m\u001b[0;34m.\u001b[0m\u001b[0mma\u001b[0m\u001b[0;34m.\u001b[0m\u001b[0mmrecords\u001b[0m \u001b[0;32mas\u001b[0m \u001b[0mmrecords\u001b[0m\u001b[0;34m\u001b[0m\u001b[0m\n",
      "\u001b[0;32m/usr/local/lib/python3.6/site-packages/pandas/core/frame.py\u001b[0m in \u001b[0;36m_init_dict\u001b[0;34m(self, data, index, columns, dtype)\u001b[0m\n\u001b[1;32m    430\u001b[0m         \"\"\"\n\u001b[1;32m    431\u001b[0m         \u001b[0;32mif\u001b[0m \u001b[0mcolumns\u001b[0m \u001b[0;32mis\u001b[0m \u001b[0;32mnot\u001b[0m \u001b[0;32mNone\u001b[0m\u001b[0;34m:\u001b[0m\u001b[0;34m\u001b[0m\u001b[0m\n\u001b[0;32m--> 432\u001b[0;31m             \u001b[0marrays\u001b[0m \u001b[0;34m=\u001b[0m \u001b[0mSeries\u001b[0m\u001b[0;34m(\u001b[0m\u001b[0mdata\u001b[0m\u001b[0;34m,\u001b[0m \u001b[0mindex\u001b[0m\u001b[0;34m=\u001b[0m\u001b[0mcolumns\u001b[0m\u001b[0;34m,\u001b[0m \u001b[0mdtype\u001b[0m\u001b[0;34m=\u001b[0m\u001b[0mobject\u001b[0m\u001b[0;34m)\u001b[0m\u001b[0;34m\u001b[0m\u001b[0m\n\u001b[0m\u001b[1;32m    433\u001b[0m             \u001b[0mdata_names\u001b[0m \u001b[0;34m=\u001b[0m \u001b[0marrays\u001b[0m\u001b[0;34m.\u001b[0m\u001b[0mindex\u001b[0m\u001b[0;34m\u001b[0m\u001b[0m\n\u001b[1;32m    434\u001b[0m \u001b[0;34m\u001b[0m\u001b[0m\n",
      "\u001b[0;32m/usr/local/lib/python3.6/site-packages/pandas/core/series.py\u001b[0m in \u001b[0;36m__init__\u001b[0;34m(self, data, index, dtype, name, copy, fastpath)\u001b[0m\n\u001b[1;32m    181\u001b[0m \u001b[0;34m\u001b[0m\u001b[0m\n\u001b[1;32m    182\u001b[0m             \u001b[0;32mif\u001b[0m \u001b[0mindex\u001b[0m \u001b[0;32mis\u001b[0m \u001b[0;32mnot\u001b[0m \u001b[0;32mNone\u001b[0m\u001b[0;34m:\u001b[0m\u001b[0;34m\u001b[0m\u001b[0m\n\u001b[0;32m--> 183\u001b[0;31m                 \u001b[0mindex\u001b[0m \u001b[0;34m=\u001b[0m \u001b[0m_ensure_index\u001b[0m\u001b[0;34m(\u001b[0m\u001b[0mindex\u001b[0m\u001b[0;34m)\u001b[0m\u001b[0;34m\u001b[0m\u001b[0m\n\u001b[0m\u001b[1;32m    184\u001b[0m \u001b[0;34m\u001b[0m\u001b[0m\n\u001b[1;32m    185\u001b[0m             \u001b[0;32mif\u001b[0m \u001b[0mdata\u001b[0m \u001b[0;32mis\u001b[0m \u001b[0;32mNone\u001b[0m\u001b[0;34m:\u001b[0m\u001b[0;34m\u001b[0m\u001b[0m\n",
      "\u001b[0;32m/usr/local/lib/python3.6/site-packages/pandas/core/indexes/base.py\u001b[0m in \u001b[0;36m_ensure_index\u001b[0;34m(index_like, copy)\u001b[0m\n\u001b[1;32m   4972\u001b[0m             \u001b[0mindex_like\u001b[0m \u001b[0;34m=\u001b[0m \u001b[0mcopy\u001b[0m\u001b[0;34m(\u001b[0m\u001b[0mindex_like\u001b[0m\u001b[0;34m)\u001b[0m\u001b[0;34m\u001b[0m\u001b[0m\n\u001b[1;32m   4973\u001b[0m \u001b[0;34m\u001b[0m\u001b[0m\n\u001b[0;32m-> 4974\u001b[0;31m     \u001b[0;32mreturn\u001b[0m \u001b[0mIndex\u001b[0m\u001b[0;34m(\u001b[0m\u001b[0mindex_like\u001b[0m\u001b[0;34m)\u001b[0m\u001b[0;34m\u001b[0m\u001b[0m\n\u001b[0m\u001b[1;32m   4975\u001b[0m \u001b[0;34m\u001b[0m\u001b[0m\n\u001b[1;32m   4976\u001b[0m \u001b[0;34m\u001b[0m\u001b[0m\n",
      "\u001b[0;32m/usr/local/lib/python3.6/site-packages/pandas/core/indexes/base.py\u001b[0m in \u001b[0;36m__new__\u001b[0;34m(cls, data, dtype, copy, name, fastpath, tupleize_cols, **kwargs)\u001b[0m\n\u001b[1;32m    262\u001b[0m             \u001b[0;32mreturn\u001b[0m \u001b[0mcls\u001b[0m\u001b[0;34m.\u001b[0m\u001b[0m_simple_new\u001b[0m\u001b[0;34m(\u001b[0m\u001b[0mdata\u001b[0m\u001b[0;34m,\u001b[0m \u001b[0mname\u001b[0m\u001b[0;34m)\u001b[0m\u001b[0;34m\u001b[0m\u001b[0m\n\u001b[1;32m    263\u001b[0m \u001b[0;34m\u001b[0m\u001b[0m\n\u001b[0;32m--> 264\u001b[0;31m         \u001b[0;32mfrom\u001b[0m \u001b[0;34m.\u001b[0m\u001b[0mrange\u001b[0m \u001b[0;32mimport\u001b[0m \u001b[0mRangeIndex\u001b[0m\u001b[0;34m\u001b[0m\u001b[0m\n\u001b[0m\u001b[1;32m    265\u001b[0m \u001b[0;34m\u001b[0m\u001b[0m\n\u001b[1;32m    266\u001b[0m         \u001b[0;31m# range\u001b[0m\u001b[0;34m\u001b[0m\u001b[0;34m\u001b[0m\u001b[0m\n",
      "\u001b[0;32m/usr/local/Cellar/python/3.6.5_1/Frameworks/Python.framework/Versions/3.6/lib/python3.6/importlib/_bootstrap.py\u001b[0m in \u001b[0;36m_handle_fromlist\u001b[0;34m(module, fromlist, import_, recursive)\u001b[0m\n",
      "\u001b[0;31mKeyboardInterrupt\u001b[0m: "
     ]
    }
   ],
   "source": [
    "# A vector with 1's marking the end of a bin\n",
    "bin_end = np.zeros((1, bin_size), dtype=np.float32)\n",
    "bin_end[0,-1] = 1.0\n",
    "\n",
    "def create_features(df):\n",
    "    fullmean = (df['acoustic_data'].mean() - 4.47) / 1.5\n",
    "    fullstd = (df['acoustic_data'].std() - 4.26) / 9.7\n",
    "    fullmax = (df['acoustic_data'].max() - 13.83) / 19.0\n",
    "    fullmin = (df['acoustic_data'].min() + 4.83) / 18.6\n",
    "    binend = 0.0 if df.index[0] % bin_size == bin_size-1 else 1.0\n",
    "    return np.c_[fullmean, fullstd, fullmax, fullmin, binend]\n",
    "\n",
    "def create_targets(df):\n",
    "    return df.tail(1).time_to_failure.values[0]\n",
    "\n",
    "data = pd.read_csv('../input/train.csv', chunksize=granularity, dtype={'acoustic_data': np.float32, 'time_to_failure': np.float32})\n",
    "\n",
    "features = []\n",
    "targets = []\n",
    "\n",
    "for df in tqdm(data, total=total_size):\n",
    "    features.append(create_features(df))\n",
    "    targets.append(create_targets(df))\n",
    "    \n",
    "features = np.asarray(features[:-withheld_size])\n",
    "targets = np.asarray(targets[:-withheld_size])\n",
    "withheld_features = np.asarray(features[withheld_size:])\n",
    "withheld_targets = np.asarray(targets[withheld_size:])\n",
    "\n",
    "print(\"Done reading data!\")\n",
    "numpy.savetxt(\"../input/features-{0}.csv\".format(granularity), features, delimiter=\",\")\n",
    "numpy.savetxt(\"../input/targets-{0}.csv\".format(granularity), targets, delimiter=\",\")\n",
    "numpy.savetxt(\"../input/withheld-features-{0}.csv\".format(granularity), withheld_features, delimiter=\",\")\n",
    "numpy.savetxt(\"../input/withheld-targets-{0}.csv\".format(granularity), withheld_targets, delimiter=\",\")\n",
    "print(\"Done saving data!\")"
   ]
  },
  {
   "cell_type": "markdown",
   "metadata": {
    "_uuid": "7b4be734ff8a21aa6a10e3624bc56755933e3abe"
   },
   "source": [
    "## Data Augmentation"
   ]
  },
  {
   "cell_type": "code",
   "execution_count": 69,
   "metadata": {
    "_cell_guid": "79c7e3d0-c299-4dcb-8224-4455121ee9b0",
    "_uuid": "d629ff2d2480ee46fbb7e2d37f6b5fab8052498a"
   },
   "outputs": [],
   "source": [
    "def batch_gen(validation=False):\n",
    "    batch_samples = np.zeros((batch_size, seg_size, feature_size))\n",
    "    batch_targets = np.zeros((batch_size, 1))\n",
    "    while True:\n",
    "        for shift in random.sample(range(bins_per_seg), bins_per_seg):\n",
    "            batches = valid_batches if validation else train_batches\n",
    "            cases = valid_cases if validation else train_cases\n",
    "            case_idxs = random.sample(range(cases), cases)\n",
    "            for batch in range(batches):\n",
    "                start_case = batch * batch_size\n",
    "                end_case = start_case + batch_size\n",
    "\n",
    "                for i, case in enumerate(case_idxs[start_case:end_case]):\n",
    "                    start_row = case * case_size + shift * bin_size\n",
    "                    end_row = start_row + seg_size\n",
    "                    batch_samples[i, j] = features[start_row:end_row]\n",
    "                    batch_targets[i] = targets[start_row:end_row]\n",
    "                yield samples, targets\n",
    "\n",
    "train = batch_gen()\n",
    "valid = batch_gen(validation=True)"
   ]
  },
  {
   "cell_type": "markdown",
   "metadata": {
    "_uuid": "d17d1cd0e8fadbd9c8bc0fcc99c01f5847853ad9"
   },
   "source": [
    "## Data visualization"
   ]
  },
  {
   "cell_type": "code",
   "execution_count": null,
   "metadata": {
    "_uuid": "c1634fd396b446e728d59c2af66490317173d771"
   },
   "outputs": [],
   "source": []
  },
  {
   "cell_type": "markdown",
   "metadata": {
    "_uuid": "a2192a9ef4352a836c154330611990bfad693f92"
   },
   "source": [
    "## Define Model"
   ]
  },
  {
   "cell_type": "code",
   "execution_count": 70,
   "metadata": {
    "_uuid": "76c0b1555461c08b2f68cde4566455eafe2fde00"
   },
   "outputs": [
    {
     "name": "stdout",
     "output_type": "stream",
     "text": [
      "_________________________________________________________________\n",
      "Layer (type)                 Output Shape              Param #   \n",
      "=================================================================\n",
      "conv1d_435 (Conv1D)          (None, 1170, 32)          352       \n",
      "_________________________________________________________________\n",
      "conv1d_436 (Conv1D)          (None, 1168, 32)          2080      \n",
      "_________________________________________________________________\n",
      "conv1d_437 (Conv1D)          (None, 1167, 32)          2080      \n",
      "_________________________________________________________________\n",
      "conv1d_438 (Conv1D)          (None, 1165, 64)          4160      \n",
      "_________________________________________________________________\n",
      "conv1d_439 (Conv1D)          (None, 1161, 64)          8256      \n",
      "_________________________________________________________________\n",
      "conv1d_440 (Conv1D)          (None, 1153, 128)         16512     \n",
      "_________________________________________________________________\n",
      "conv1d_441 (Conv1D)          (None, 1137, 128)         32896     \n",
      "_________________________________________________________________\n",
      "conv1d_442 (Conv1D)          (None, 1105, 256)         65792     \n",
      "_________________________________________________________________\n",
      "conv1d_443 (Conv1D)          (None, 1041, 256)         131328    \n",
      "_________________________________________________________________\n",
      "conv1d_444 (Conv1D)          (None, 785, 256)          196864    \n",
      "_________________________________________________________________\n",
      "conv1d_445 (Conv1D)          (None, 17, 256)           196864    \n",
      "_________________________________________________________________\n",
      "global_average_pooling1d_35  (None, 256)               0         \n",
      "_________________________________________________________________\n",
      "dropout_35 (Dropout)         (None, 256)               0         \n",
      "_________________________________________________________________\n",
      "dense_35 (Dense)             (None, 1)                 257       \n",
      "=================================================================\n",
      "Total params: 657,441\n",
      "Trainable params: 657,441\n",
      "Non-trainable params: 0\n",
      "_________________________________________________________________\n",
      "Epoch 1/37\n",
      "118/118 [==============================] - 886s 8s/step - loss: 3.2988 - val_loss: 2.5131\n",
      "Epoch 2/37\n",
      "118/118 [==============================] - 777s 7s/step - loss: 2.5262 - val_loss: 2.9289\n",
      "Epoch 3/37\n",
      "118/118 [==============================] - 718s 6s/step - loss: 2.4295 - val_loss: 3.2969\n",
      "Epoch 4/37\n",
      "118/118 [==============================] - 685s 6s/step - loss: 2.4317 - val_loss: 2.6146\n",
      "Epoch 5/37\n",
      "118/118 [==============================] - 707s 6s/step - loss: 2.4133 - val_loss: 1.9886\n",
      "Epoch 6/37\n",
      "118/118 [==============================] - 692s 6s/step - loss: 2.3620 - val_loss: 2.2215\n",
      "Epoch 7/37\n",
      "118/118 [==============================] - 696s 6s/step - loss: 2.4316 - val_loss: 2.3907\n",
      "Epoch 8/37\n",
      "118/118 [==============================] - 695s 6s/step - loss: 2.3817 - val_loss: 2.0844\n",
      "Epoch 9/37\n",
      "118/118 [==============================] - 695s 6s/step - loss: 2.3773 - val_loss: 1.9452\n",
      "Epoch 10/37\n",
      "118/118 [==============================] - 692s 6s/step - loss: 2.3310 - val_loss: 1.5839\n",
      "Epoch 11/37\n",
      "118/118 [==============================] - 688s 6s/step - loss: 2.3162 - val_loss: 2.8639\n",
      "Epoch 12/37\n",
      "118/118 [==============================] - 688s 6s/step - loss: 2.3069 - val_loss: 2.1991\n",
      "Epoch 13/37\n",
      "118/118 [==============================] - 686s 6s/step - loss: 2.2755 - val_loss: 2.0643\n",
      "Epoch 14/37\n",
      "118/118 [==============================] - 688s 6s/step - loss: 2.2785 - val_loss: 2.6496\n",
      "Epoch 15/37\n",
      "118/118 [==============================] - 684s 6s/step - loss: 2.2670 - val_loss: 1.9202\n",
      "Epoch 16/37\n",
      "118/118 [==============================] - 688s 6s/step - loss: 2.2569 - val_loss: 3.4007\n",
      "Epoch 17/37\n",
      "118/118 [==============================] - 688s 6s/step - loss: 2.2809 - val_loss: 2.1274\n",
      "Epoch 18/37\n",
      "118/118 [==============================] - 688s 6s/step - loss: 2.2957 - val_loss: 2.5703\n",
      "Epoch 19/37\n",
      "118/118 [==============================] - 688s 6s/step - loss: 2.2495 - val_loss: 2.8792\n",
      "Epoch 20/37\n",
      "118/118 [==============================] - 710s 6s/step - loss: 2.2328 - val_loss: 2.6060\n",
      "Epoch 21/37\n",
      "118/118 [==============================] - 699s 6s/step - loss: 2.2378 - val_loss: 1.8344\n",
      "Epoch 22/37\n",
      "118/118 [==============================] - 697s 6s/step - loss: 2.2334 - val_loss: 1.7288\n",
      "Epoch 23/37\n",
      "118/118 [==============================] - 684s 6s/step - loss: 2.2434 - val_loss: 1.7879\n",
      "Epoch 24/37\n",
      "118/118 [==============================] - 686s 6s/step - loss: 2.2359 - val_loss: 1.9045\n",
      "Epoch 25/37\n",
      "118/118 [==============================] - 686s 6s/step - loss: 2.2073 - val_loss: 2.7830\n",
      "Epoch 26/37\n",
      "118/118 [==============================] - 689s 6s/step - loss: 2.2157 - val_loss: 2.0446\n",
      "Epoch 27/37\n",
      "118/118 [==============================] - 686s 6s/step - loss: 2.1971 - val_loss: 2.6216\n",
      "Epoch 28/37\n",
      "118/118 [==============================] - 814s 7s/step - loss: 2.2287 - val_loss: 2.6665\n",
      "Epoch 29/37\n",
      "118/118 [==============================] - 880s 7s/step - loss: 2.2322 - val_loss: 2.3019\n",
      "Epoch 30/37\n",
      "118/118 [==============================] - 814s 7s/step - loss: 2.2188 - val_loss: 1.9164\n",
      "Epoch 31/37\n",
      "118/118 [==============================] - 849s 7s/step - loss: 2.2310 - val_loss: 1.7874\n",
      "Epoch 32/37\n",
      "118/118 [==============================] - 839s 7s/step - loss: 2.1974 - val_loss: 1.8460\n",
      "Epoch 33/37\n",
      "118/118 [==============================] - 796s 7s/step - loss: 2.1758 - val_loss: 2.4305\n",
      "Epoch 34/37\n",
      "118/118 [==============================] - 796s 7s/step - loss: 2.1921 - val_loss: 3.0399\n",
      "Epoch 35/37\n",
      "118/118 [==============================] - 825s 7s/step - loss: 2.1863 - val_loss: 2.1423\n",
      "Epoch 36/37\n",
      "118/118 [==============================] - 841s 7s/step - loss: 2.1981 - val_loss: 1.9635\n",
      "Epoch 37/37\n",
      "118/118 [==============================] - 774s 7s/step - loss: 2.1594 - val_loss: 1.7790\n"
     ]
    }
   ],
   "source": [
    "# Define model\n",
    "from keras.models import Sequential\n",
    "from keras.layers import Dense, Dropout\n",
    "from keras.layers import Conv1D, GlobalAveragePooling1D, MaxPooling1D, AveragePooling1D\n",
    "from keras.optimizers import adam\n",
    "from keras.callbacks import ModelCheckpoint, \n",
    "\n",
    "cb = [ModelCheckpoint(\"dcnn-2-model.hdf5\", monitor='val_loss', save_weights_only=False, period=3)]\n",
    "if True:\n",
    "    cb += [TensorBoard(log_dir=\"logs/{}\".format(time()))]\n",
    "\n",
    "model = Sequential()\n",
    "model.add(Conv1D(32, 2, activation='relu', dilation_rate=2**0, strides=1, input_shape=(seq_size, feature_size)))\n",
    "model.add(Conv1D(32, 2, activation='relu', dilation_rate=2**1, strides=1, input_shape=(None, 32))) \n",
    "model.add(Conv1D(32, 2, activation='relu', dilation_rate=2**0, strides=1, input_shape=(None, 32))) \n",
    "model.add(Conv1D(64, 2, activation='relu', dilation_rate=2**1, strides=1, input_shape=(None, 32)))   \n",
    "model.add(Conv1D(64, 2, activation='relu', dilation_rate=2**2, strides=1, input_shape=(None, 64))) \n",
    "model.add(Conv1D(128, 2, activation='relu', dilation_rate=2**3, strides=1, input_shape=(None, 64))) \n",
    "model.add(Conv1D(128, 2, activation='relu', dilation_rate=2**4, strides=1, input_shape=(None, 128))) \n",
    "model.add(Conv1D(256, 2, activation='relu', dilation_rate=2**5, strides=1, input_shape=(None, 128))) \n",
    "model.add(Conv1D(256, 2, activation='relu', dilation_rate=2**6, strides=1, input_shape=(None, 256)))\n",
    "model.add(Conv1D(256, 3, activation='relu', dilation_rate=2**7, strides=1, input_shape=(None, 256))) \n",
    "model.add(Conv1D(256, 3, activation='relu', dilation_rate=2**7*3, strides=1, input_shape=(None, 256)))   \n",
    "# model.add(MaxPooling1D(44, strides=16, padding='same'))\n",
    "model.add(GlobalAveragePooling1D())\n",
    "model.add(Dropout(0.5))\n",
    "model.add(Dense(1, activation='linear'))\n",
    "\n",
    "model.summary()\n",
    "\n",
    "# Compile and fit model\n",
    "model.compile(optimizer=adam(lr=learning_rate), loss=\"mae\", metrics=\"\")\n",
    "\n",
    "history = model.fit_generator(train,\n",
    "                              steps_per_epoch=train_batches,\n",
    "                              epochs=epochs,\n",
    "                              verbose=1,\n",
    "                              callbacks=cb,\n",
    "                              validation_data=valid,\n",
    "                              validation_steps=valid_steps)"
   ]
  },
  {
   "cell_type": "code",
   "execution_count": 72,
   "metadata": {
    "_uuid": "1a8c972d212557beb2f7550c02e62663f872a8ce"
   },
   "outputs": [
    {
     "data": {
      "image/png": "[encoded data removed]",
      "text/plain": [
       "<Figure size 432x288 with 1 Axes>"
      ]
     },
     "metadata": {
      "needs_background": "light"
     },
     "output_type": "display_data"
    }
   ],
   "source": [
    "%matplotlib inline\n",
    "# Visualize accuracies\n",
    "import matplotlib.pyplot as plt\n",
    "\n",
    "def perf_plot(history, what = 'loss'):\n",
    "    x = history.history[what]\n",
    "    val_x = history.history['val_' + what]\n",
    "    epochs = np.asarray(history.epoch) + 1\n",
    "\n",
    "    plt.plot(epochs, x, 'bo', label = \"Training \" + what)\n",
    "    plt.plot(epochs, val_x, 'b', label = \"Validation \" + what)\n",
    "    plt.title(\"Training and validation \" + what)\n",
    "    plt.xlabel(\"Epochs\")\n",
    "    plt.legend()\n",
    "    plt.show()\n",
    "    return None\n",
    "\n",
    "perf_plot(history)"
   ]
  },
  {
   "cell_type": "code",
   "execution_count": 77,
   "metadata": {
    "_uuid": "3b6ad90328ba3962ede6d26ec5018c72f734f827"
   },
   "outputs": [
    {
     "name": "stdout",
     "output_type": "stream",
     "text": [
      " 2623 seg_ffe7cc 2624 [[12.821518]]]624 [[10.101119]]2624 [[19.719547]][[4.358842]] seg_8fb828 2624 [[13.608048]]seg_a25c46 2624 [[3.311316]] [[5.0048532]][[5.6201353]]"
     ]
    }
   ],
   "source": [
    "submission = pd.read_csv('../input/sample_submission.csv', index_col='seg_id', dtype={\"time_to_failure\": np.float32})\n",
    "\n",
    "# Load each test data, create the feature matrix, get numeric prediction\n",
    "for i, seg_id in enumerate(submission.index):\n",
    "    seg = pd.read_csv('../input/test/' + seg_id + '.csv', dtype={'acoustic_data': np.float32})\n",
    "    samples = np.zeros((seq_size, feature_size))\n",
    "    for j, gran in seg.groupby(seg.index % case_size % bin_size // granularity):\n",
    "        samples[j] = create_features(gran)\n",
    "    predict = model.predict(np.expand_dims(samples, 0))\n",
    "    print('\\r', i, seg_id, submission.shape[0], predict, end = '')\n",
    "    submission.time_to_failure[i] = predict\n",
    "\n",
    "submission.head()\n",
    "\n",
    "# Save\n",
    "submission.to_csv('submission.csv')\n"
   ]
  },
  {
   "cell_type": "code",
   "execution_count": null,
   "metadata": {
    "_uuid": "1024b06fd1c95b1ad39c943fd9427871c0bda4fe"
   },
   "outputs": [],
   "source": []
  }
 ],
 "metadata": {
  "kernelspec": {
   "display_name": "Python 3",
   "language": "python",
   "name": "python3"
  },
  "language_info": {
   "codemirror_mode": {
    "name": "ipython",
    "version": 3
   },
   "file_extension": ".py",
   "mimetype": "text/x-python",
   "name": "python",
   "nbconvert_exporter": "python",
   "pygments_lexer": "ipython3",
   "version": "3.6.5"
  }
 },
 "nbformat": 4,
 "nbformat_minor": 1
}
